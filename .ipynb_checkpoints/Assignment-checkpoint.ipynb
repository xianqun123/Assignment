{
 "cells": [
  {
   "cell_type": "code",
   "execution_count": null,
   "id": "47914d47",
   "metadata": {},
   "outputs": [],
   "source": [
    "import numpy as np \n",
    "import pandas as pd\n",
    "from pandas_datareader import data as pdr\n",
    "import matplotlib.pyplot as plt\n",
    "import seaborn as sn\n",
    "import datetime as datetime"
   ]
  },
  {
   "cell_type": "code",
   "execution_count": null,
   "id": "8281a1f7",
   "metadata": {
    "scrolled": true
   },
   "outputs": [],
   "source": [
    "# downloading stock data and filter closing price to use for calculating returns, storing prices in stocks_10y_price\n",
    "\n",
    "stocks = ['AAPL','TSLA','NVDA','BYDDY','AMD','MSFT','AMZN','TSM','META','GOOG']\n",
    "stocks_10y_price = pd.DataFrame()\n",
    "for stock in stocks:\n",
    "    stock_historical_data = pdr.get_data_yahoo(stock, start='2014-01-01', end='2024-01-06')\n",
    "    stock_historical_closing_price = stock_historical_data[['Close']].rename(columns={'Close':stock})\n",
    "    stocks_10y_price = pd.concat([stocks_10y_price,stock_historical_closing_price],axis=1)\n",
    "stocks_10y_price"
   ]
  },
  {
   "cell_type": "code",
   "execution_count": null,
   "id": "6e09c927",
   "metadata": {},
   "outputs": [],
   "source": [
    "# raw GOOG stock data downloaded from the internet which is used to obtain the stocks_10y_price above\n",
    "\n",
    "stock_historical_data"
   ]
  },
  {
   "cell_type": "code",
   "execution_count": null,
   "id": "06ccceab",
   "metadata": {
    "scrolled": true
   },
   "outputs": [],
   "source": [
    "stocks_10y_price['AAPL'].plot(title='AAPL daily closing price',ylabel='USD')"
   ]
  },
  {
   "cell_type": "code",
   "execution_count": null,
   "id": "0359b522",
   "metadata": {},
   "outputs": [],
   "source": [
    "# ensure user input a return frequency of 2, 3 or 5 days\n",
    "\n",
    "accepted_frequencies = [2,3,5]\n",
    "while True:\n",
    "    return_frequency = input('Enter a return frequency in days: ')\n",
    "    try:\n",
    "        return_frequency = int(return_frequency)\n",
    "    except ValueError:\n",
    "        print('Error! Please input an integer that is 2,3 or 5.')\n",
    "    else:\n",
    "        if return_frequency not in accepted_frequencies:\n",
    "            print('Error! Please input an integer that is 2,3 or 5.')\n",
    "        else:\n",
    "            break"
   ]
  },
  {
   "cell_type": "code",
   "execution_count": null,
   "id": "9ed251b8",
   "metadata": {},
   "outputs": [],
   "source": [
    "# calculating returns based on the return frequency chosen by user and storing in compiled_returns\n",
    "\n",
    "# compiled_returns_cleaned is then obtained by cleaning up the last few days for which the returns cannot be \n",
    "# calculated yet due to it requiring future data\n",
    "\n",
    "compiled_returns = pd.DataFrame()\n",
    "for stock in stocks_10y_price.columns:\n",
    "    stock_data = stocks_10y_price[stock].reset_index()\n",
    "    stock_data['return'] = ''\n",
    "    for index in stock_data.index[:-return_frequency]:\n",
    "        buy_price = stock_data.loc[index,stock]\n",
    "        sell_price = stock_data.loc[index+return_frequency,stock]\n",
    "        stock_return = 100*(sell_price-buy_price)/buy_price\n",
    "        stock_data.loc[index,'return'] = stock_return\n",
    "    stock_returns = stock_data[['Date','return']].set_index('Date').rename(columns={'return':stock})\n",
    "    compiled_returns = pd.concat([compiled_returns,stock_returns],axis=1)\n",
    "compiled_returns_cleaned = compiled_returns.iloc[:-return_frequency]\n",
    "compiled_returns_cleaned"
   ]
  },
  {
   "cell_type": "code",
   "execution_count": null,
   "id": "89ff7536",
   "metadata": {},
   "outputs": [],
   "source": [
    "# dataframe to store the time series of returns before compiling into compiled_returns\n",
    "\n",
    "stock_data"
   ]
  },
  {
   "cell_type": "code",
   "execution_count": null,
   "id": "90852d9b",
   "metadata": {},
   "outputs": [],
   "source": [
    "compiled_returns_cleaned['AAPL'].plot(title='AAPL ' + str(return_frequency) + '-Day returns',ylabel='percentage')"
   ]
  },
  {
   "cell_type": "code",
   "execution_count": null,
   "id": "3e8e3381",
   "metadata": {},
   "outputs": [],
   "source": [
    "compiled_returns_cleaned.to_csv('/Users/xianqun/Documents/GitHub/Assignment/returns.csv')"
   ]
  },
  {
   "cell_type": "code",
   "execution_count": null,
   "id": "955f81a5",
   "metadata": {},
   "outputs": [],
   "source": [
    "# ensure user input a lookback_period of 1,2 or 3 years\n",
    "\n",
    "accepted_lookback_period = [1,2,3]\n",
    "while True:\n",
    "    lookback_period = input('Enter a lookback period in years: ')\n",
    "    try:\n",
    "        lookback_period = int(lookback_period)\n",
    "    except ValueError:\n",
    "        print('Error! Please input an integer that is 1,2 or 3.')\n",
    "    else:\n",
    "        if lookback_period not in accepted_lookback_period:\n",
    "            print('Error! Please input an integer that is 1,2 or 3.')\n",
    "        else:\n",
    "            break"
   ]
  },
  {
   "cell_type": "code",
   "execution_count": null,
   "id": "4569734e",
   "metadata": {},
   "outputs": [],
   "source": [
    "# calculating annualized ex-ante volatility of equally weighted portfolio\n",
    "\n",
    "# we loop over the below ranges as for the first few years we do not have enough data to calculate covariance\n",
    "\n",
    "portfolio_volatility = pd.DataFrame()\n",
    "for year in range(2014+lookback_period,2024):\n",
    "    for month in range(1,13):\n",
    "        \n",
    "        # each (year,month) in the for loop corresponds to a historical month-end point\n",
    "        \n",
    "        # for this particular month-end point, the period starting from lookback_start_date and \n",
    "        # ending right before next_month_start_date is the lookback period used to calculate covariance\n",
    "        \n",
    "        if month != 12:\n",
    "            lookback_start_date = str(year-lookback_period) + '-' + f'{month+1:02}' + '-01'\n",
    "            next_month_start_date = str(year) + '-' + f'{month+1:02}' + '-01'\n",
    "        else:\n",
    "            lookback_start_date = str(year-lookback_period+1) + '-01-01'\n",
    "            next_month_start_date = str(year+1) + '-01-01'\n",
    "        compiled_returns_filtered = compiled_returns_cleaned[(compiled_returns_cleaned.index>=lookback_start_date) & \n",
    "                                                             (compiled_returns_cleaned.index<next_month_start_date)]\n",
    "        returns_matrix = compiled_returns_filtered.to_numpy().transpose()\n",
    "        cov_matrix = np.cov(returns_matrix.astype(float),bias=False)\n",
    "        volatility = (cov_matrix.sum()/100)**0.5\n",
    "        \n",
    "        # assuming 252 trading days in a year\n",
    "        \n",
    "        periods = 252/return_frequency\n",
    "        annualized_volatility = volatility * periods**0.5\n",
    "        month_end_point = str(year) + '-' + f'{month:02}'\n",
    "        annualized_volatility_df= pd.DataFrame(index=[month_end_point],data=[annualized_volatility],\n",
    "                                               columns=['annualized volatility'])\n",
    "        portfolio_volatility = pd.concat([portfolio_volatility,annualized_volatility_df])"
   ]
  },
  {
   "cell_type": "code",
   "execution_count": null,
   "id": "191af4d1",
   "metadata": {},
   "outputs": [],
   "source": [
    "# returns in lookback period that is used to calculate covariance \n",
    "\n",
    "compiled_returns_filtered"
   ]
  },
  {
   "cell_type": "code",
   "execution_count": null,
   "id": "f7efa7e4",
   "metadata": {},
   "outputs": [],
   "source": [
    "# plot covariance matrix when month-end point is Dec 2023\n",
    "\n",
    "ax = plt.axes()\n",
    "sn.heatmap(cov_matrix,annot=True,fmt='.2f',\n",
    "           xticklabels=['AAPL','TSLA','NVDA','BYDDY','AMD','MSFT','AMZN','TSM','META','GOOG'],\n",
    "           yticklabels=['AAPL','TSLA','NVDA','BYDDY','AMD','MSFT','AMZN','TSM','META','GOOG'],\n",
    "           ax=ax)\n",
    "ax.set_title('Covariance Matrix of Stocks for Month-End Point Dec 2023')\n",
    "plt.show()"
   ]
  },
  {
   "cell_type": "code",
   "execution_count": null,
   "id": "3a752d82",
   "metadata": {},
   "outputs": [],
   "source": [
    "portfolio_volatility.to_csv('/Users/xianqun/Documents/GitHub/Assignment/portfolio_volatility.csv')"
   ]
  }
 ],
 "metadata": {
  "kernelspec": {
   "display_name": "Python 3 (ipykernel)",
   "language": "python",
   "name": "python3"
  },
  "language_info": {
   "codemirror_mode": {
    "name": "ipython",
    "version": 3
   },
   "file_extension": ".py",
   "mimetype": "text/x-python",
   "name": "python",
   "nbconvert_exporter": "python",
   "pygments_lexer": "ipython3",
   "version": "3.8.18"
  }
 },
 "nbformat": 4,
 "nbformat_minor": 5
}
